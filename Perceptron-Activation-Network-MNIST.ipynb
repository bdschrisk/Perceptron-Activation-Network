{
 "cells": [
  {
   "cell_type": "markdown",
   "metadata": {},
   "source": [
    "## Perceptron Activation Network\n",
    "### With a learning example and comparison\n",
    "_Overview:_ This is an implementation of the Perceptron Activation Network\n",
    "\n",
    "In this notebook I present a model based on the biological brain, that combines Dropout, ReLU and Perceptron learning into a single learning algorithm - dubbed the Perceptron Activation Layer.  It is used like a typical Linear layer, however internally it implements a teacher-student signal for interrupting the flow of weights that do not contribute to the learning task.  A teacher network is responsible for computing a \"teaching signal\" that informs the \"student network\" which weights to activate and which to turn off."
   ]
  },
  {
   "cell_type": "code",
   "execution_count": 1,
   "metadata": {},
   "outputs": [],
   "source": [
    "# Import libraries\n",
    "import matplotlib.pyplot as plt\n",
    "# Visualizations will be shown in the notebook.\n",
    "%matplotlib inline\n",
    "\n",
    "import random\n",
    "import os\n",
    "import glob\n",
    "import pickle\n",
    "import time\n",
    "import string\n",
    "from tqdm import tqdm\n",
    "from PIL import Image\n",
    "import numpy as np\n",
    "import json\n",
    "\n",
    "import torch as torch\n",
    "import torch.nn as nn    \n",
    "import torch.nn.functional as F\n",
    "from torch.nn.parameter import Parameter\n",
    "from torch import optim\n",
    "from torch.autograd import Variable\n",
    "from torchvision import datasets, transforms, models"
   ]
  },
  {
   "cell_type": "code",
   "execution_count": 2,
   "metadata": {},
   "outputs": [
    {
     "name": "stdout",
     "output_type": "stream",
     "text": [
      "Using PyTorch version: 1.0.0\n"
     ]
    }
   ],
   "source": [
    "print(\"Using PyTorch version: \" + str(torch.__version__))"
   ]
  },
  {
   "cell_type": "code",
   "execution_count": 3,
   "metadata": {},
   "outputs": [
    {
     "name": "stdout",
     "output_type": "stream",
     "text": [
      "Using GPU: True\n"
     ]
    }
   ],
   "source": [
    "use_gpu = torch.cuda.is_available()\n",
    "torch.manual_seed(7)\n",
    "\n",
    "print(\"Using GPU: {}\".format(use_gpu))"
   ]
  },
  {
   "cell_type": "markdown",
   "metadata": {},
   "source": [
    "**Setup the dataset**"
   ]
  },
  {
   "cell_type": "code",
   "execution_count": 4,
   "metadata": {},
   "outputs": [],
   "source": [
    "batch_size = 64"
   ]
  },
  {
   "cell_type": "code",
   "execution_count": 5,
   "metadata": {},
   "outputs": [],
   "source": [
    "# Define a transform to normalize the data\n",
    "transform = transforms.Compose([transforms.ToTensor(),\n",
    "                                transforms.Normalize((0.5, 0.5, 0.5), (0.5, 0.5, 0.5)),\n",
    "                              ])\n",
    "# Download and load the training data\n",
    "trainset = datasets.MNIST('~/.pytorch/MNIST_data/train/', download=True, train=True, transform=transform)\n",
    "testset = datasets.MNIST('~/.pytorch/MNIST_data/valid/', download=True, train=False, transform=transform)\n",
    "train_loader = torch.utils.data.DataLoader(trainset, batch_size=batch_size, shuffle=False)\n",
    "test_loader = torch.utils.data.DataLoader(testset, batch_size=batch_size, shuffle=False)"
   ]
  },
  {
   "cell_type": "markdown",
   "metadata": {},
   "source": [
    "** Utility functions **"
   ]
  },
  {
   "cell_type": "code",
   "execution_count": 24,
   "metadata": {},
   "outputs": [],
   "source": [
    "# Accuracy and loss meter\n",
    "class AverageMeter(object):\n",
    "    \"\"\"\n",
    "    Computes and stores the average and\n",
    "    current value.\n",
    "    \"\"\"\n",
    "    def __init__(self):\n",
    "        self.reset()\n",
    "\n",
    "    def reset(self):\n",
    "        self.val = 0\n",
    "        self.avg = 0\n",
    "        self.sum = 0\n",
    "        self.count = 0\n",
    "\n",
    "    def update(self, val, n=1):\n",
    "        self.val = val\n",
    "        self.sum += val * n\n",
    "        self.count += n\n",
    "        self.avg = self.sum / self.count\n",
    "\n",
    "# Visualise a layer activation\n",
    "def viz_layer(layer):\n",
    "    fig = plt.figure(figsize=(16, 12))\n",
    "    n_filters = layer.size()[1]\n",
    "    for i in range(n_filters):\n",
    "        ax = fig.add_subplot(1, n_filters, i+1, xticks=[], yticks=[])\n",
    "        # grab layer outputs\n",
    "        ax.imshow(np.squeeze(layer[0,i].data.numpy()), cmap='gray')\n",
    "        ax.set_title('Output %s' % str(i+1))\n",
    "    \n",
    "    plt.show()"
   ]
  },
  {
   "cell_type": "markdown",
   "metadata": {},
   "source": [
    "### Build the networks"
   ]
  },
  {
   "cell_type": "markdown",
   "metadata": {},
   "source": [
    "**Build the LeNet5 network**"
   ]
  },
  {
   "cell_type": "code",
   "execution_count": 7,
   "metadata": {},
   "outputs": [],
   "source": [
    "class LeNet5(nn.Module):\n",
    "    def __init__(self):\n",
    "        super().__init__()\n",
    "        self.conv1 = nn.Conv2d(1, 6, 5, padding=2)\n",
    "        self.conv2 = nn.Conv2d(6, 16, 5)\n",
    "        self.fc1 = nn.Linear(16*5*5, 120)\n",
    "        self.fc2 = nn.Linear(120, 84)\n",
    "        self.fc3 = nn.Linear(84, 10)\n",
    "        self.softmax = nn.LogSoftmax()\n",
    "        \n",
    "        \n",
    "    def forward(self, x):\n",
    "        # store last sample for visualisation\n",
    "        self.lastx = x\n",
    "        self.xc1 = self.conv1(x)\n",
    "        self.xa1 = F.relu(self.xc1)\n",
    "        x = F.max_pool2d(self.xa1, (2, 2))\n",
    "        \n",
    "        self.xc2 = self.conv2(x)\n",
    "        self.xa2 = F.relu(self.xc2)\n",
    "        x = F.max_pool2d(self.xa2, (2, 2))\n",
    "        \n",
    "        x = x.view(-1, self.num_flat_features(x))\n",
    "        \n",
    "        x = F.relu(self.fc1(x))\n",
    "        x = F.relu(self.fc2(x))\n",
    "        x = self.fc3(x)\n",
    "        x = self.softmax(x)\n",
    "        \n",
    "        return x \n",
    "    \n",
    "    def num_flat_features(self, x):\n",
    "        size = x.size()[1:]\n",
    "        num_features = 1\n",
    "        for s in size:\n",
    "            num_features *= s\n",
    "        return num_features"
   ]
  },
  {
   "cell_type": "markdown",
   "metadata": {},
   "source": [
    "**Define the Perceptron module**"
   ]
  },
  {
   "cell_type": "code",
   "execution_count": 8,
   "metadata": {},
   "outputs": [],
   "source": [
    "class Perceptron(nn.Module):\n",
    "    def __init__(self, inputs, outputs, minimum = 0.0):\n",
    "        super(Perceptron, self).__init__()\n",
    "        self.inputs = inputs\n",
    "        self.outputs = outputs\n",
    "        \n",
    "        # student network\n",
    "        self.Sb = Parameter(torch.randn(self.outputs, requires_grad=True))\n",
    "        self.SW = Parameter(torch.randn(self.outputs, self.inputs, requires_grad=True))\n",
    "        \n",
    "        # teacher network\n",
    "        self.S_o, self.S_i = self.SW.size()\n",
    "        self.Tb = Parameter(torch.randn(self.S_o * self.S_i, requires_grad=True))\n",
    "        self.TW = Parameter(torch.randn(self.S_o * self.S_i, self.inputs, requires_grad=True))\n",
    "        \n",
    "        self.min_val = torch.tensor(minimum).float().cuda()\n",
    "    \n",
    "    def forward(self, x):\n",
    "        # teacher signal\n",
    "        self.Tz = F.linear(x, self.TW, self.Tb)\n",
    "        self.Th = torch.matmul(self.Tz.t(), torch.ones(x.size()[0]).cuda())\n",
    "        # perceptron gate\n",
    "        self.o = torch.gt(self.Th, self.min_val).float()\n",
    "        \n",
    "        self.o = self.o.view(self.S_o, self.S_i)\n",
    "        self.W = torch.mul(self.o, self.SW)\n",
    "        \n",
    "        # student signal\n",
    "        x = F.linear(x, self.W, self.Sb)\n",
    "        \n",
    "        return x"
   ]
  },
  {
   "cell_type": "markdown",
   "metadata": {},
   "source": [
    "**Build the Perceptron Activation Network**"
   ]
  },
  {
   "cell_type": "code",
   "execution_count": 9,
   "metadata": {},
   "outputs": [],
   "source": [
    "class Tron(nn.Module):\n",
    "    def __init__(self):\n",
    "        super(Tron, self).__init__()\n",
    "        self.conv1 = nn.Conv2d(1, 6, 5, padding=2)\n",
    "        self.conv2 = nn.Conv2d(6, 16, 5)\n",
    "        \n",
    "        self.tron1 = Perceptron(16*5*5, 120)\n",
    "        self.tron2 = Perceptron(120, 84)\n",
    "        \n",
    "        self.fc3 = nn.Linear(84, 10)\n",
    "        self.softmax = nn.LogSoftmax()\n",
    "        \n",
    "    def forward(self, x):\n",
    "        self.xc1 = self.conv1(x)\n",
    "        self.xa1 = F.relu(self.xc1)\n",
    "        x = F.max_pool2d(self.xa1, (2, 2))\n",
    "        \n",
    "        self.xc2 = self.conv2(x)\n",
    "        self.xa2 = F.relu(self.xc2)\n",
    "        x = F.max_pool2d(self.xa2, (2, 2))\n",
    "        \n",
    "        x = x.view(-1, self.num_flat_features(x))\n",
    "        \n",
    "        x = self.tron1(x)\n",
    "        x = self.tron2(x)\n",
    "        \n",
    "        x = self.fc3(x)\n",
    "        x = self.softmax(x)\n",
    "        \n",
    "        return x\n",
    "    \n",
    "    def num_flat_features(self, x):\n",
    "        size = x.size()[1:]\n",
    "        num_features = 1\n",
    "        for s in size:\n",
    "            num_features *= s\n",
    "        return num_features"
   ]
  },
  {
   "cell_type": "markdown",
   "metadata": {},
   "source": [
    "### Training the network"
   ]
  },
  {
   "cell_type": "markdown",
   "metadata": {},
   "source": [
    "**Loss plotting functions**"
   ]
  },
  {
   "cell_type": "code",
   "execution_count": 10,
   "metadata": {},
   "outputs": [],
   "source": [
    "def plot_training(train_losses, valid_losses, title):\n",
    "    plt.subplot(1, 2, 1)\n",
    "    plt.plot(train_losses, label='Training ' + title)\n",
    "    plt.plot(valid_losses, label='Validation ' + title)\n",
    "    plt.xlabel('epochs')\n",
    "    plt.legend(frameon=False)\n",
    "    plt.title(title)\n",
    "    plt.show()"
   ]
  },
  {
   "cell_type": "markdown",
   "metadata": {},
   "source": [
    "**Train the network**"
   ]
  },
  {
   "cell_type": "code",
   "execution_count": 11,
   "metadata": {},
   "outputs": [],
   "source": [
    "def train(model, epoch, criterion, optimizer):\n",
    "    \n",
    "    model.train()\n",
    "    train_loss = 0\n",
    "    correct = 0\n",
    "    num_train = len(train_loader.dataset)\n",
    "    \n",
    "    batch_time = AverageMeter()\n",
    "    losses = AverageMeter()\n",
    "    accs = AverageMeter()\n",
    "\n",
    "    tic = time.time()\n",
    "    with tqdm(total=num_train) as pbar:\n",
    "        for batch_idx, (data, target) in enumerate(train_loader):\n",
    "            if use_gpu:\n",
    "                data, target = data.cuda(), target.cuda()\n",
    "\n",
    "            data, target = Variable(data), Variable(target)\n",
    "\n",
    "            optimizer.zero_grad()\n",
    "\n",
    "            output = model(data)\n",
    "\n",
    "            loss = criterion(output, target)\n",
    "            loss.backward()\n",
    "\n",
    "            train_loss += loss.item()\n",
    "\n",
    "            predicted = torch.max(output, 1)[1]\n",
    "            true_count = (predicted == target).float().sum()\n",
    "\n",
    "            optimizer.step()\n",
    "            \n",
    "            correct += true_count\n",
    "            acc = 100 * (true_count / len(target))\n",
    "\n",
    "            # store\n",
    "            losses.update(loss.item(), data.size()[0])\n",
    "            accs.update(acc.item(), data.size()[0])\n",
    "            \n",
    "            # measure elapsed time\n",
    "            toc = time.time()\n",
    "            batch_time.update(toc-tic)\n",
    "\n",
    "            pbar.set_description(\n",
    "                (\n",
    "                    \"{:.1f}s - loss: {:.3f} - acc: {:.3f}\".format(\n",
    "                        (toc-tic), loss.item(), acc.item()\n",
    "                    )\n",
    "                )\n",
    "            )\n",
    "            pbar.update(batch_size)\n",
    "        \n",
    "    print('\\nTrain set: Average loss: {:.4f}, Accuracy: {}/{} ({:.2f}%)'.format(\n",
    "        train_loss, correct, len(train_loader.dataset),\n",
    "        100. * correct / len(train_loader.dataset)))\n",
    "        \n",
    "    return train_loss, correct / len(train_loader.dataset)"
   ]
  },
  {
   "cell_type": "code",
   "execution_count": 12,
   "metadata": {},
   "outputs": [],
   "source": [
    "def test(model, criterion, optimizer):\n",
    "    model.eval()\n",
    "    \n",
    "    test_loss = 0\n",
    "    correct = 0\n",
    "    \n",
    "    for data, target in test_loader:\n",
    "        if use_gpu:\n",
    "            data, target = data.cuda(), target.cuda()\n",
    "        \n",
    "        data, target = Variable(data), Variable(target)\n",
    "        \n",
    "        output = model(data)\n",
    "        loss = criterion(output, target)\n",
    "        \n",
    "        test_loss += loss.item()\n",
    "        predicted = torch.max(output, 1)[1]\n",
    "        correct += (predicted == target).float().sum()\n",
    "    \n",
    "    print('Test set: Average loss: {:.4f}, Accuracy: {}/{} ({:.2f}%)\\n'.format(\n",
    "        test_loss, correct, len(test_loader.dataset),\n",
    "        100. * correct / len(test_loader.dataset)))\n",
    "    \n",
    "    return test_loss, correct / len(test_loader.dataset)"
   ]
  },
  {
   "cell_type": "code",
   "execution_count": 13,
   "metadata": {},
   "outputs": [],
   "source": [
    "# Train Model\n",
    "def train_model(model, epochs):\n",
    "    if (use_gpu):\n",
    "        model.cuda()\n",
    "    \n",
    "    criteria = nn.NLLLoss()\n",
    "    optimise = optim.SGD(model.parameters(), lr=0.003)\n",
    "    scheduler = optim.lr_scheduler.StepLR(optimise, step_size=10, gamma=0.5)\n",
    "    \n",
    "    train_losses, train_accs = [], []\n",
    "    valid_losses, valid_accs = [], []\n",
    "\n",
    "    for e in range(epochs):\n",
    "        print(\"Epoch: {} ...\".format(e))\n",
    "        scheduler.step()\n",
    "        \n",
    "        t_loss, t_acc = train(model, e, criteria, optimise)\n",
    "        v_loss, v_acc = test(model, criteria, optimise)\n",
    "\n",
    "        train_losses.append(t_loss)\n",
    "        valid_losses.append(v_loss)\n",
    "        train_accs.append(t_acc)\n",
    "        valid_accs.append(v_acc)\n",
    "    \n",
    "    plot_training(train_losses, valid_losses, 'Loss')\n",
    "    plot_training(train_accs, valid_accs, 'Accuracy')"
   ]
  },
  {
   "cell_type": "code",
   "execution_count": 14,
   "metadata": {},
   "outputs": [],
   "source": [
    "# Training Parameters\n",
    "epochs = 50"
   ]
  },
  {
   "cell_type": "markdown",
   "metadata": {},
   "source": [
    "**Train LeNet5**"
   ]
  },
  {
   "cell_type": "code",
   "execution_count": 15,
   "metadata": {},
   "outputs": [],
   "source": [
    "# Standard LeNet5\n",
    "lenet5 = LeNet5()"
   ]
  },
  {
   "cell_type": "code",
   "execution_count": 16,
   "metadata": {},
   "outputs": [
    {
     "name": "stdout",
     "output_type": "stream",
     "text": [
      "Epoch: 0 ...\n"
     ]
    },
    {
     "name": "stderr",
     "output_type": "stream",
     "text": [
      "  0%|                                                                                        | 0/60000 [00:00<?, ?it/s]C:\\Anaconda\\lib\\site-packages\\ipykernel_launcher.py:28: UserWarning: Implicit dimension choice for log_softmax has been deprecated. Change the call to include dim=X as an argument.\n",
      "16.9s - loss: 2.286 - acc: 18.750: : 60032it [00:16, 3549.31it/s]                                                      \n"
     ]
    },
    {
     "name": "stdout",
     "output_type": "stream",
     "text": [
      "\n",
      "Train set: Average loss: 2154.0102, Accuracy: 6664.0/60000 (11.11%)\n",
      "Test set: Average loss: 358.8486, Accuracy: 2073.0/10000 (20.73%)\n",
      "\n",
      "Epoch: 1 ...\n"
     ]
    },
    {
     "name": "stderr",
     "output_type": "stream",
     "text": [
      "16.1s - loss: 2.149 - acc: 50.000: : 60032it [00:16, 3739.26it/s]                                                      \n"
     ]
    },
    {
     "name": "stdout",
     "output_type": "stream",
     "text": [
      "\n",
      "Train set: Average loss: 2103.9590, Accuracy: 26521.0/60000 (44.20%)\n",
      "Test set: Average loss: 334.1136, Accuracy: 5597.0/10000 (55.97%)\n",
      "\n",
      "Epoch: 2 ...\n"
     ]
    },
    {
     "name": "stderr",
     "output_type": "stream",
     "text": [
      "16.1s - loss: 0.442 - acc: 93.750: : 60032it [00:16, 3729.43it/s]                                                      \n"
     ]
    },
    {
     "name": "stdout",
     "output_type": "stream",
     "text": [
      "\n",
      "Train set: Average loss: 1272.3268, Accuracy: 39111.0/60000 (65.18%)\n",
      "Test set: Average loss: 106.3548, Accuracy: 7909.0/10000 (79.09%)\n",
      "\n",
      "Epoch: 3 ...\n"
     ]
    },
    {
     "name": "stderr",
     "output_type": "stream",
     "text": [
      "16.1s - loss: 0.217 - acc: 93.750: : 60032it [00:16, 3728.39it/s]                                                      \n"
     ]
    },
    {
     "name": "stdout",
     "output_type": "stream",
     "text": [
      "\n",
      "Train set: Average loss: 438.4991, Accuracy: 51639.0/60000 (86.07%)\n",
      "Test set: Average loss: 54.2942, Accuracy: 8917.0/10000 (89.17%)\n",
      "\n",
      "Epoch: 4 ...\n"
     ]
    },
    {
     "name": "stderr",
     "output_type": "stream",
     "text": [
      "15.9s - loss: 0.173 - acc: 96.875: : 60032it [00:15, 3765.80it/s]                                                      \n"
     ]
    },
    {
     "name": "stdout",
     "output_type": "stream",
     "text": [
      "\n",
      "Train set: Average loss: 282.7756, Accuracy: 54558.0/60000 (90.93%)\n",
      "Test set: Average loss: 39.2860, Accuracy: 9191.0/10000 (91.91%)\n",
      "\n",
      "Epoch: 5 ...\n"
     ]
    },
    {
     "name": "stderr",
     "output_type": "stream",
     "text": [
      "15.9s - loss: 0.128 - acc: 96.875: : 60032it [00:15, 3783.83it/s]                                                      \n"
     ]
    },
    {
     "name": "stdout",
     "output_type": "stream",
     "text": [
      "\n",
      "Train set: Average loss: 220.0950, Accuracy: 55741.0/60000 (92.90%)\n",
      "Test set: Average loss: 31.8308, Accuracy: 9353.0/10000 (93.53%)\n",
      "\n",
      "Epoch: 6 ...\n"
     ]
    },
    {
     "name": "stderr",
     "output_type": "stream",
     "text": [
      "15.9s - loss: 0.095 - acc: 96.875: : 60032it [00:15, 3768.58it/s]                                                      \n"
     ]
    },
    {
     "name": "stdout",
     "output_type": "stream",
     "text": [
      "\n",
      "Train set: Average loss: 183.3780, Accuracy: 56417.0/60000 (94.03%)\n",
      "Test set: Average loss: 27.0437, Accuracy: 9444.0/10000 (94.44%)\n",
      "\n",
      "Epoch: 7 ...\n"
     ]
    },
    {
     "name": "stderr",
     "output_type": "stream",
     "text": [
      "15.9s - loss: 0.076 - acc: 100.000: : 60032it [00:15, 3777.49it/s]                                                     \n"
     ]
    },
    {
     "name": "stdout",
     "output_type": "stream",
     "text": [
      "\n",
      "Train set: Average loss: 159.1614, Accuracy: 56916.0/60000 (94.86%)\n",
      "Test set: Average loss: 23.7500, Accuracy: 9505.0/10000 (95.05%)\n",
      "\n",
      "Epoch: 8 ...\n"
     ]
    },
    {
     "name": "stderr",
     "output_type": "stream",
     "text": [
      "16.0s - loss: 0.063 - acc: 100.000: : 60032it [00:16, 3749.70it/s]                                                     \n"
     ]
    },
    {
     "name": "stdout",
     "output_type": "stream",
     "text": [
      "\n",
      "Train set: Average loss: 142.0263, Accuracy: 57241.0/60000 (95.40%)\n",
      "Test set: Average loss: 21.3520, Accuracy: 9550.0/10000 (95.50%)\n",
      "\n",
      "Epoch: 9 ...\n"
     ]
    },
    {
     "name": "stderr",
     "output_type": "stream",
     "text": [
      "15.9s - loss: 0.054 - acc: 100.000: : 60032it [00:15, 3772.35it/s]                                                     \n"
     ]
    },
    {
     "name": "stdout",
     "output_type": "stream",
     "text": [
      "\n",
      "Train set: Average loss: 129.2510, Accuracy: 57480.0/60000 (95.80%)\n",
      "Test set: Average loss: 19.6170, Accuracy: 9592.0/10000 (95.92%)\n",
      "\n",
      "Epoch: 10 ...\n"
     ]
    },
    {
     "name": "stderr",
     "output_type": "stream",
     "text": [
      "15.9s - loss: 0.046 - acc: 100.000: : 60032it [00:15, 3822.78it/s]                                                     \n"
     ]
    },
    {
     "name": "stdout",
     "output_type": "stream",
     "text": [
      "\n",
      "Train set: Average loss: 118.5490, Accuracy: 57688.0/60000 (96.15%)\n",
      "Test set: Average loss: 17.7929, Accuracy: 9635.0/10000 (96.35%)\n",
      "\n",
      "Epoch: 11 ...\n"
     ]
    },
    {
     "name": "stderr",
     "output_type": "stream",
     "text": [
      "15.9s - loss: 0.043 - acc: 100.000: : 60032it [00:15, 3769.70it/s]                                                     \n"
     ]
    },
    {
     "name": "stdout",
     "output_type": "stream",
     "text": [
      "\n",
      "Train set: Average loss: 113.8642, Accuracy: 57774.0/60000 (96.29%)\n",
      "Test set: Average loss: 17.1635, Accuracy: 9641.0/10000 (96.41%)\n",
      "\n",
      "Epoch: 12 ...\n"
     ]
    },
    {
     "name": "stderr",
     "output_type": "stream",
     "text": [
      "16.0s - loss: 0.039 - acc: 100.000: : 60032it [00:16, 3741.58it/s]                                                     \n"
     ]
    },
    {
     "name": "stdout",
     "output_type": "stream",
     "text": [
      "\n",
      "Train set: Average loss: 109.7723, Accuracy: 57843.0/60000 (96.40%)\n",
      "Test set: Average loss: 16.5872, Accuracy: 9655.0/10000 (96.55%)\n",
      "\n",
      "Epoch: 13 ...\n"
     ]
    },
    {
     "name": "stderr",
     "output_type": "stream",
     "text": [
      "16.0s - loss: 0.037 - acc: 100.000: : 60032it [00:16, 3746.87it/s]                                                     \n"
     ]
    },
    {
     "name": "stdout",
     "output_type": "stream",
     "text": [
      "\n",
      "Train set: Average loss: 106.0688, Accuracy: 57941.0/60000 (96.57%)\n",
      "Test set: Average loss: 16.0619, Accuracy: 9665.0/10000 (96.65%)\n",
      "\n",
      "Epoch: 14 ...\n"
     ]
    },
    {
     "name": "stderr",
     "output_type": "stream",
     "text": [
      "16.1s - loss: 0.035 - acc: 100.000: : 60032it [00:16, 3769.10it/s]                                                     \n"
     ]
    },
    {
     "name": "stdout",
     "output_type": "stream",
     "text": [
      "\n",
      "Train set: Average loss: 102.7066, Accuracy: 58012.0/60000 (96.69%)\n",
      "Test set: Average loss: 15.5918, Accuracy: 9671.0/10000 (96.71%)\n",
      "\n",
      "Epoch: 15 ...\n"
     ]
    },
    {
     "name": "stderr",
     "output_type": "stream",
     "text": [
      "16.0s - loss: 0.032 - acc: 100.000: : 60032it [00:16, 3750.01it/s]                                                     \n"
     ]
    },
    {
     "name": "stdout",
     "output_type": "stream",
     "text": [
      "\n",
      "Train set: Average loss: 99.6131, Accuracy: 58070.0/60000 (96.78%)\n",
      "Test set: Average loss: 15.1581, Accuracy: 9677.0/10000 (96.77%)\n",
      "\n",
      "Epoch: 16 ...\n"
     ]
    },
    {
     "name": "stderr",
     "output_type": "stream",
     "text": [
      "16.0s - loss: 0.030 - acc: 100.000: : 60032it [00:15, 3755.85it/s]                                                     \n"
     ]
    },
    {
     "name": "stdout",
     "output_type": "stream",
     "text": [
      "\n",
      "Train set: Average loss: 96.7337, Accuracy: 58123.0/60000 (96.87%)\n",
      "Test set: Average loss: 14.7444, Accuracy: 9681.0/10000 (96.81%)\n",
      "\n",
      "Epoch: 17 ...\n"
     ]
    },
    {
     "name": "stderr",
     "output_type": "stream",
     "text": [
      "16.2s - loss: 0.029 - acc: 100.000: : 60032it [00:16, 3593.11it/s]                                                     \n"
     ]
    },
    {
     "name": "stdout",
     "output_type": "stream",
     "text": [
      "\n",
      "Train set: Average loss: 94.0247, Accuracy: 58173.0/60000 (96.96%)\n",
      "Test set: Average loss: 14.3583, Accuracy: 9691.0/10000 (96.91%)\n",
      "\n",
      "Epoch: 18 ...\n"
     ]
    },
    {
     "name": "stderr",
     "output_type": "stream",
     "text": [
      "16.1s - loss: 0.027 - acc: 100.000: : 60032it [00:16, 3731.17it/s]                                                     \n"
     ]
    },
    {
     "name": "stdout",
     "output_type": "stream",
     "text": [
      "\n",
      "Train set: Average loss: 91.4753, Accuracy: 58225.0/60000 (97.04%)\n",
      "Test set: Average loss: 14.0003, Accuracy: 9700.0/10000 (97.00%)\n",
      "\n",
      "Epoch: 19 ...\n"
     ]
    },
    {
     "name": "stderr",
     "output_type": "stream",
     "text": [
      "16.1s - loss: 0.026 - acc: 100.000: : 60032it [00:16, 3739.71it/s]                                                     \n"
     ]
    },
    {
     "name": "stdout",
     "output_type": "stream",
     "text": [
      "\n",
      "Train set: Average loss: 89.0938, Accuracy: 58282.0/60000 (97.14%)\n",
      "Test set: Average loss: 13.6572, Accuracy: 9703.0/10000 (97.03%)\n",
      "\n",
      "Epoch: 20 ...\n"
     ]
    },
    {
     "name": "stderr",
     "output_type": "stream",
     "text": [
      "16.0s - loss: 0.024 - acc: 100.000: : 60032it [00:15, 3755.06it/s]                                                     \n"
     ]
    },
    {
     "name": "stdout",
     "output_type": "stream",
     "text": [
      "\n",
      "Train set: Average loss: 86.1409, Accuracy: 58334.0/60000 (97.22%)\n",
      "Test set: Average loss: 12.9848, Accuracy: 9726.0/10000 (97.26%)\n",
      "\n",
      "Epoch: 21 ...\n"
     ]
    },
    {
     "name": "stderr",
     "output_type": "stream",
     "text": [
      "16.1s - loss: 0.024 - acc: 100.000: : 60032it [00:16, 3739.50it/s]                                                     \n"
     ]
    },
    {
     "name": "stdout",
     "output_type": "stream",
     "text": [
      "\n",
      "Train set: Average loss: 84.8957, Accuracy: 58367.0/60000 (97.28%)\n",
      "Test set: Average loss: 12.8236, Accuracy: 9729.0/10000 (97.29%)\n",
      "\n",
      "Epoch: 22 ...\n"
     ]
    },
    {
     "name": "stderr",
     "output_type": "stream",
     "text": [
      "16.0s - loss: 0.023 - acc: 100.000: : 60032it [00:16, 3751.01it/s]                                                     \n"
     ]
    },
    {
     "name": "stdout",
     "output_type": "stream",
     "text": [
      "\n",
      "Train set: Average loss: 83.8175, Accuracy: 58387.0/60000 (97.31%)\n",
      "Test set: Average loss: 12.6703, Accuracy: 9732.0/10000 (97.32%)\n",
      "\n",
      "Epoch: 23 ...\n"
     ]
    },
    {
     "name": "stderr",
     "output_type": "stream",
     "text": [
      "16.0s - loss: 0.023 - acc: 100.000: : 60032it [00:15, 3747.79it/s]                                                     \n"
     ]
    },
    {
     "name": "stdout",
     "output_type": "stream",
     "text": [
      "\n",
      "Train set: Average loss: 82.7781, Accuracy: 58402.0/60000 (97.34%)\n",
      "Test set: Average loss: 12.5231, Accuracy: 9740.0/10000 (97.40%)\n",
      "\n",
      "Epoch: 24 ...\n"
     ]
    },
    {
     "name": "stderr",
     "output_type": "stream",
     "text": [
      "16.1s - loss: 0.022 - acc: 100.000: : 60032it [00:16, 3737.41it/s]                                                     \n"
     ]
    },
    {
     "name": "stdout",
     "output_type": "stream",
     "text": [
      "\n",
      "Train set: Average loss: 81.7733, Accuracy: 58416.0/60000 (97.36%)\n",
      "Test set: Average loss: 12.3801, Accuracy: 9742.0/10000 (97.42%)\n",
      "\n",
      "Epoch: 25 ...\n"
     ]
    },
    {
     "name": "stderr",
     "output_type": "stream",
     "text": [
      "16.0s - loss: 0.022 - acc: 100.000: : 60032it [00:16, 3746.51it/s]                                                     \n"
     ]
    },
    {
     "name": "stdout",
     "output_type": "stream",
     "text": [
      "\n",
      "Train set: Average loss: 80.7955, Accuracy: 58430.0/60000 (97.38%)\n",
      "Test set: Average loss: 12.2400, Accuracy: 9745.0/10000 (97.45%)\n",
      "\n",
      "Epoch: 26 ...\n"
     ]
    },
    {
     "name": "stderr",
     "output_type": "stream",
     "text": [
      "16.0s - loss: 0.021 - acc: 100.000: : 60032it [00:16, 3840.68it/s]                                                     \n"
     ]
    },
    {
     "name": "stdout",
     "output_type": "stream",
     "text": [
      "\n",
      "Train set: Average loss: 79.8389, Accuracy: 58452.0/60000 (97.42%)\n",
      "Test set: Average loss: 12.1031, Accuracy: 9747.0/10000 (97.47%)\n",
      "\n",
      "Epoch: 27 ...\n"
     ]
    },
    {
     "name": "stderr",
     "output_type": "stream",
     "text": [
      "16.0s - loss: 0.021 - acc: 100.000: : 60032it [00:16, 3747.64it/s]                                                     \n"
     ]
    },
    {
     "name": "stdout",
     "output_type": "stream",
     "text": [
      "\n",
      "Train set: Average loss: 78.9056, Accuracy: 58473.0/60000 (97.46%)\n",
      "Test set: Average loss: 11.9756, Accuracy: 9752.0/10000 (97.52%)\n",
      "\n",
      "Epoch: 28 ...\n"
     ]
    },
    {
     "name": "stderr",
     "output_type": "stream",
     "text": [
      "16.0s - loss: 0.020 - acc: 100.000: : 60032it [00:16, 3732.61it/s]                                                     \n"
     ]
    },
    {
     "name": "stdout",
     "output_type": "stream",
     "text": [
      "\n",
      "Train set: Average loss: 77.9973, Accuracy: 58492.0/60000 (97.49%)\n",
      "Test set: Average loss: 11.8499, Accuracy: 9757.0/10000 (97.57%)\n",
      "\n",
      "Epoch: 29 ...\n"
     ]
    },
    {
     "name": "stderr",
     "output_type": "stream",
     "text": [
      "16.0s - loss: 0.020 - acc: 100.000: : 60032it [00:15, 3754.38it/s]                                                     \n"
     ]
    },
    {
     "name": "stdout",
     "output_type": "stream",
     "text": [
      "\n",
      "Train set: Average loss: 77.1162, Accuracy: 58505.0/60000 (97.51%)\n",
      "Test set: Average loss: 11.7305, Accuracy: 9760.0/10000 (97.60%)\n",
      "\n",
      "Epoch: 30 ...\n"
     ]
    },
    {
     "name": "stderr",
     "output_type": "stream",
     "text": [
      "16.2s - loss: 0.019 - acc: 100.000: : 60032it [00:16, 3716.44it/s]                                                     \n"
     ]
    },
    {
     "name": "stdout",
     "output_type": "stream",
     "text": [
      "\n",
      "Train set: Average loss: 75.8766, Accuracy: 58541.0/60000 (97.57%)\n",
      "Test set: Average loss: 11.4296, Accuracy: 9761.0/10000 (97.61%)\n",
      "\n",
      "Epoch: 31 ...\n"
     ]
    },
    {
     "name": "stderr",
     "output_type": "stream",
     "text": [
      "16.1s - loss: 0.019 - acc: 100.000: : 60032it [00:16, 3733.71it/s]                                                     \n"
     ]
    },
    {
     "name": "stdout",
     "output_type": "stream",
     "text": [
      "\n",
      "Train set: Average loss: 75.3827, Accuracy: 58542.0/60000 (97.57%)\n",
      "Test set: Average loss: 11.3702, Accuracy: 9764.0/10000 (97.64%)\n",
      "\n",
      "Epoch: 32 ...\n"
     ]
    },
    {
     "name": "stderr",
     "output_type": "stream",
     "text": [
      "16.1s - loss: 0.019 - acc: 100.000: : 60032it [00:16, 3735.79it/s]                                                     \n"
     ]
    },
    {
     "name": "stdout",
     "output_type": "stream",
     "text": [
      "\n",
      "Train set: Average loss: 74.9529, Accuracy: 58550.0/60000 (97.58%)\n",
      "Test set: Average loss: 11.3111, Accuracy: 9767.0/10000 (97.67%)\n",
      "\n",
      "Epoch: 33 ...\n"
     ]
    },
    {
     "name": "stderr",
     "output_type": "stream",
     "text": [
      "16.1s - loss: 0.018 - acc: 100.000: : 60032it [00:16, 3730.74it/s]                                                     \n"
     ]
    },
    {
     "name": "stdout",
     "output_type": "stream",
     "text": [
      "\n",
      "Train set: Average loss: 74.5318, Accuracy: 58553.0/60000 (97.59%)\n",
      "Test set: Average loss: 11.2526, Accuracy: 9769.0/10000 (97.69%)\n",
      "\n",
      "Epoch: 34 ...\n"
     ]
    },
    {
     "name": "stderr",
     "output_type": "stream",
     "text": [
      "16.1s - loss: 0.018 - acc: 100.000: : 60032it [00:16, 3726.36it/s]                                                     \n"
     ]
    },
    {
     "name": "stdout",
     "output_type": "stream",
     "text": [
      "\n",
      "Train set: Average loss: 74.1189, Accuracy: 58562.0/60000 (97.60%)\n",
      "Test set: Average loss: 11.1943, Accuracy: 9769.0/10000 (97.69%)\n",
      "\n",
      "Epoch: 35 ...\n"
     ]
    },
    {
     "name": "stderr",
     "output_type": "stream",
     "text": [
      "16.1s - loss: 0.018 - acc: 100.000: : 60032it [00:16, 3723.33it/s]                                                     \n"
     ]
    },
    {
     "name": "stdout",
     "output_type": "stream",
     "text": [
      "\n",
      "Train set: Average loss: 73.7106, Accuracy: 58568.0/60000 (97.61%)\n",
      "Test set: Average loss: 11.1368, Accuracy: 9770.0/10000 (97.70%)\n",
      "\n",
      "Epoch: 36 ...\n"
     ]
    },
    {
     "name": "stderr",
     "output_type": "stream",
     "text": [
      "16.1s - loss: 0.018 - acc: 100.000: : 60032it [00:16, 3724.15it/s]                                                     \n"
     ]
    },
    {
     "name": "stdout",
     "output_type": "stream",
     "text": [
      "\n",
      "Train set: Average loss: 73.3076, Accuracy: 58576.0/60000 (97.63%)\n",
      "Test set: Average loss: 11.0800, Accuracy: 9772.0/10000 (97.72%)\n",
      "\n",
      "Epoch: 37 ...\n"
     ]
    },
    {
     "name": "stderr",
     "output_type": "stream",
     "text": [
      "16.1s - loss: 0.018 - acc: 100.000: : 60032it [00:16, 3718.91it/s]                                                     \n"
     ]
    },
    {
     "name": "stdout",
     "output_type": "stream",
     "text": [
      "\n",
      "Train set: Average loss: 72.9103, Accuracy: 58579.0/60000 (97.63%)\n",
      "Test set: Average loss: 11.0245, Accuracy: 9772.0/10000 (97.72%)\n",
      "\n",
      "Epoch: 38 ...\n"
     ]
    },
    {
     "name": "stderr",
     "output_type": "stream",
     "text": [
      "16.2s - loss: 0.017 - acc: 100.000: : 60032it [00:16, 3714.15it/s]                                                     \n"
     ]
    },
    {
     "name": "stdout",
     "output_type": "stream",
     "text": [
      "\n",
      "Train set: Average loss: 72.5177, Accuracy: 58587.0/60000 (97.65%)\n",
      "Test set: Average loss: 10.9705, Accuracy: 9773.0/10000 (97.73%)\n",
      "\n",
      "Epoch: 39 ...\n"
     ]
    },
    {
     "name": "stderr",
     "output_type": "stream",
     "text": [
      "16.0s - loss: 0.017 - acc: 100.000: : 60032it [00:15, 3760.10it/s]                                                     \n"
     ]
    },
    {
     "name": "stdout",
     "output_type": "stream",
     "text": [
      "\n",
      "Train set: Average loss: 72.1293, Accuracy: 58595.0/60000 (97.66%)\n",
      "Test set: Average loss: 10.9161, Accuracy: 9773.0/10000 (97.73%)\n",
      "\n",
      "Epoch: 40 ...\n"
     ]
    },
    {
     "name": "stderr",
     "output_type": "stream",
     "text": [
      "16.0s - loss: 0.016 - acc: 100.000: : 60032it [00:16, 3747.99it/s]                                                     \n"
     ]
    },
    {
     "name": "stdout",
     "output_type": "stream",
     "text": [
      "\n",
      "Train set: Average loss: 71.5988, Accuracy: 58622.0/60000 (97.70%)\n",
      "Test set: Average loss: 10.8162, Accuracy: 9779.0/10000 (97.79%)\n",
      "\n",
      "Epoch: 41 ...\n"
     ]
    },
    {
     "name": "stderr",
     "output_type": "stream",
     "text": [
      "16.1s - loss: 0.016 - acc: 100.000: : 60032it [00:16, 3733.22it/s]                                                     \n"
     ]
    },
    {
     "name": "stdout",
     "output_type": "stream",
     "text": [
      "\n",
      "Train set: Average loss: 71.3714, Accuracy: 58624.0/60000 (97.71%)\n",
      "Test set: Average loss: 10.7882, Accuracy: 9779.0/10000 (97.79%)\n",
      "\n",
      "Epoch: 42 ...\n"
     ]
    },
    {
     "name": "stderr",
     "output_type": "stream",
     "text": [
      "16.1s - loss: 0.016 - acc: 100.000: : 60032it [00:16, 3717.85it/s]                                                     \n"
     ]
    },
    {
     "name": "stdout",
     "output_type": "stream",
     "text": [
      "\n",
      "Train set: Average loss: 71.1782, Accuracy: 58626.0/60000 (97.71%)\n",
      "Test set: Average loss: 10.7614, Accuracy: 9779.0/10000 (97.79%)\n",
      "\n",
      "Epoch: 43 ...\n"
     ]
    },
    {
     "name": "stderr",
     "output_type": "stream",
     "text": [
      "16.1s - loss: 0.016 - acc: 100.000: : 60032it [00:16, 3736.24it/s]                                                     \n"
     ]
    },
    {
     "name": "stdout",
     "output_type": "stream",
     "text": [
      "\n",
      "Train set: Average loss: 70.9860, Accuracy: 58627.0/60000 (97.71%)\n",
      "Test set: Average loss: 10.7345, Accuracy: 9780.0/10000 (97.80%)\n",
      "\n",
      "Epoch: 44 ...\n"
     ]
    },
    {
     "name": "stderr",
     "output_type": "stream",
     "text": [
      "16.2s - loss: 0.016 - acc: 100.000: : 60032it [00:16, 3701.70it/s]                                                     \n"
     ]
    },
    {
     "name": "stdout",
     "output_type": "stream",
     "text": [
      "\n",
      "Train set: Average loss: 70.7968, Accuracy: 58629.0/60000 (97.72%)\n",
      "Test set: Average loss: 10.7087, Accuracy: 9782.0/10000 (97.82%)\n",
      "\n",
      "Epoch: 45 ...\n"
     ]
    },
    {
     "name": "stderr",
     "output_type": "stream",
     "text": [
      "16.1s - loss: 0.016 - acc: 100.000: : 60032it [00:16, 3744.62it/s]                                                     \n"
     ]
    },
    {
     "name": "stdout",
     "output_type": "stream",
     "text": [
      "\n",
      "Train set: Average loss: 70.6097, Accuracy: 58631.0/60000 (97.72%)\n",
      "Test set: Average loss: 10.6821, Accuracy: 9781.0/10000 (97.81%)\n",
      "\n",
      "Epoch: 46 ...\n"
     ]
    },
    {
     "name": "stderr",
     "output_type": "stream",
     "text": [
      "16.0s - loss: 0.016 - acc: 100.000: : 60032it [00:15, 3755.75it/s]                                                     \n"
     ]
    },
    {
     "name": "stdout",
     "output_type": "stream",
     "text": [
      "\n",
      "Train set: Average loss: 70.4232, Accuracy: 58635.0/60000 (97.72%)\n",
      "Test set: Average loss: 10.6563, Accuracy: 9783.0/10000 (97.83%)\n",
      "\n",
      "Epoch: 47 ...\n"
     ]
    },
    {
     "name": "stderr",
     "output_type": "stream",
     "text": [
      "16.0s - loss: 0.016 - acc: 100.000: : 60032it [00:16, 3746.10it/s]                                                     \n"
     ]
    },
    {
     "name": "stdout",
     "output_type": "stream",
     "text": [
      "\n",
      "Train set: Average loss: 70.2383, Accuracy: 58639.0/60000 (97.73%)\n",
      "Test set: Average loss: 10.6304, Accuracy: 9784.0/10000 (97.84%)\n",
      "\n",
      "Epoch: 48 ...\n"
     ]
    },
    {
     "name": "stderr",
     "output_type": "stream",
     "text": [
      "16.0s - loss: 0.016 - acc: 100.000: : 60032it [00:15, 3754.34it/s]                                                     \n"
     ]
    },
    {
     "name": "stdout",
     "output_type": "stream",
     "text": [
      "\n",
      "Train set: Average loss: 70.0541, Accuracy: 58640.0/60000 (97.73%)\n",
      "Test set: Average loss: 10.6047, Accuracy: 9785.0/10000 (97.85%)\n",
      "\n",
      "Epoch: 49 ...\n"
     ]
    },
    {
     "name": "stderr",
     "output_type": "stream",
     "text": [
      "16.0s - loss: 0.016 - acc: 100.000: : 60032it [00:16, 3746.01it/s]                                                     \n"
     ]
    },
    {
     "name": "stdout",
     "output_type": "stream",
     "text": [
      "\n",
      "Train set: Average loss: 69.8705, Accuracy: 58645.0/60000 (97.74%)\n",
      "Test set: Average loss: 10.5789, Accuracy: 9786.0/10000 (97.86%)\n",
      "\n"
     ]
    },
    {
     "data": {
      "image/png": "[encoded data removed]",
      "text/plain": [
       "<Figure size 432x288 with 1 Axes>"
      ]
     },
     "metadata": {},
     "output_type": "display_data"
    },
    {
     "data": {
      "image/png": "[encoded data removed]",
      "text/plain": [
       "<Figure size 432x288 with 1 Axes>"
      ]
     },
     "metadata": {},
     "output_type": "display_data"
    }
   ],
   "source": [
    "train_model(lenet5, epochs)"
   ]
  },
  {
   "cell_type": "markdown",
   "metadata": {},
   "source": [
    "**Train MLP Activation Network**"
   ]
  },
  {
   "cell_type": "code",
   "execution_count": 17,
   "metadata": {},
   "outputs": [],
   "source": [
    "# Model with MLP Activation\n",
    "tron = Tron()"
   ]
  },
  {
   "cell_type": "code",
   "execution_count": 18,
   "metadata": {},
   "outputs": [
    {
     "name": "stdout",
     "output_type": "stream",
     "text": [
      "Epoch: 0 ...\n"
     ]
    },
    {
     "name": "stderr",
     "output_type": "stream",
     "text": [
      "  0%|                                                                                        | 0/60000 [00:00<?, ?it/s]C:\\Anaconda\\lib\\site-packages\\ipykernel_launcher.py:28: UserWarning: Implicit dimension choice for log_softmax has been deprecated. Change the call to include dim=X as an argument.\n",
      "20.2s - loss: 0.155 - acc: 93.750: : 60032it [00:20, 2966.05it/s]                                                      \n"
     ]
    },
    {
     "name": "stdout",
     "output_type": "stream",
     "text": [
      "\n",
      "Train set: Average loss: 989.2777, Accuracy: 46346.0/60000 (77.24%)\n",
      "Test set: Average loss: 64.3994, Accuracy: 8808.0/10000 (88.08%)\n",
      "\n",
      "Epoch: 1 ...\n"
     ]
    },
    {
     "name": "stderr",
     "output_type": "stream",
     "text": [
      "19.8s - loss: 0.130 - acc: 93.750: : 60032it [00:19, 2994.86it/s]                                                      \n"
     ]
    },
    {
     "name": "stdout",
     "output_type": "stream",
     "text": [
      "\n",
      "Train set: Average loss: 255.7280, Accuracy: 55297.0/60000 (92.16%)\n",
      "Test set: Average loss: 40.1812, Accuracy: 9267.0/10000 (92.67%)\n",
      "\n",
      "Epoch: 2 ...\n"
     ]
    },
    {
     "name": "stderr",
     "output_type": "stream",
     "text": [
      "19.8s - loss: 0.024 - acc: 100.000: : 60032it [00:19, 3035.01it/s]                                                     \n"
     ]
    },
    {
     "name": "stdout",
     "output_type": "stream",
     "text": [
      "\n",
      "Train set: Average loss: 189.7612, Accuracy: 56400.0/60000 (94.00%)\n",
      "Test set: Average loss: 33.7890, Accuracy: 9391.0/10000 (93.91%)\n",
      "\n",
      "Epoch: 3 ...\n"
     ]
    },
    {
     "name": "stderr",
     "output_type": "stream",
     "text": [
      "19.8s - loss: 0.024 - acc: 100.000: : 60032it [00:19, 3034.96it/s]                                                     \n"
     ]
    },
    {
     "name": "stdout",
     "output_type": "stream",
     "text": [
      "\n",
      "Train set: Average loss: 161.9383, Accuracy: 56877.0/60000 (94.79%)\n",
      "Test set: Average loss: 28.7581, Accuracy: 9466.0/10000 (94.66%)\n",
      "\n",
      "Epoch: 4 ...\n"
     ]
    },
    {
     "name": "stderr",
     "output_type": "stream",
     "text": [
      "19.8s - loss: 0.089 - acc: 96.875: : 60032it [00:19, 3105.19it/s]                                                      \n"
     ]
    },
    {
     "name": "stdout",
     "output_type": "stream",
     "text": [
      "\n",
      "Train set: Average loss: 143.8265, Accuracy: 57201.0/60000 (95.33%)\n",
      "Test set: Average loss: 22.3428, Accuracy: 9571.0/10000 (95.71%)\n",
      "\n",
      "Epoch: 5 ...\n"
     ]
    },
    {
     "name": "stderr",
     "output_type": "stream",
     "text": [
      "19.8s - loss: 0.038 - acc: 100.000: : 60032it [00:19, 3046.24it/s]                                                     \n"
     ]
    },
    {
     "name": "stdout",
     "output_type": "stream",
     "text": [
      "\n",
      "Train set: Average loss: 130.1133, Accuracy: 57403.0/60000 (95.67%)\n",
      "Test set: Average loss: 23.1003, Accuracy: 9553.0/10000 (95.53%)\n",
      "\n",
      "Epoch: 6 ...\n"
     ]
    },
    {
     "name": "stderr",
     "output_type": "stream",
     "text": [
      "19.8s - loss: 0.011 - acc: 100.000: : 60032it [00:19, 3017.61it/s]                                                     \n"
     ]
    },
    {
     "name": "stdout",
     "output_type": "stream",
     "text": [
      "\n",
      "Train set: Average loss: 125.3422, Accuracy: 57501.0/60000 (95.83%)\n",
      "Test set: Average loss: 19.4592, Accuracy: 9605.0/10000 (96.05%)\n",
      "\n",
      "Epoch: 7 ...\n"
     ]
    },
    {
     "name": "stderr",
     "output_type": "stream",
     "text": [
      "19.8s - loss: 0.068 - acc: 96.875: : 60032it [00:19, 3034.93it/s]                                                      \n"
     ]
    },
    {
     "name": "stdout",
     "output_type": "stream",
     "text": [
      "\n",
      "Train set: Average loss: 118.2039, Accuracy: 57671.0/60000 (96.12%)\n",
      "Test set: Average loss: 21.1549, Accuracy: 9588.0/10000 (95.88%)\n",
      "\n",
      "Epoch: 8 ...\n"
     ]
    },
    {
     "name": "stderr",
     "output_type": "stream",
     "text": [
      "19.7s - loss: 0.050 - acc: 100.000: : 60032it [00:19, 3041.99it/s]                                                     \n"
     ]
    },
    {
     "name": "stdout",
     "output_type": "stream",
     "text": [
      "\n",
      "Train set: Average loss: 112.4400, Accuracy: 57775.0/60000 (96.29%)\n",
      "Test set: Average loss: 19.4385, Accuracy: 9615.0/10000 (96.15%)\n",
      "\n",
      "Epoch: 9 ...\n"
     ]
    },
    {
     "name": "stderr",
     "output_type": "stream",
     "text": [
      "19.8s - loss: 0.008 - acc: 100.000: : 60032it [00:19, 3030.88it/s]                                                     \n"
     ]
    },
    {
     "name": "stdout",
     "output_type": "stream",
     "text": [
      "\n",
      "Train set: Average loss: 111.3233, Accuracy: 57725.0/60000 (96.21%)\n",
      "Test set: Average loss: 17.9567, Accuracy: 9644.0/10000 (96.44%)\n",
      "\n",
      "Epoch: 10 ...\n"
     ]
    },
    {
     "name": "stderr",
     "output_type": "stream",
     "text": [
      "19.8s - loss: 0.042 - acc: 100.000: : 60032it [00:19, 3025.23it/s]                                                     \n"
     ]
    },
    {
     "name": "stdout",
     "output_type": "stream",
     "text": [
      "\n",
      "Train set: Average loss: 96.6987, Accuracy: 57996.0/60000 (96.66%)\n",
      "Test set: Average loss: 17.1500, Accuracy: 9659.0/10000 (96.59%)\n",
      "\n",
      "Epoch: 11 ...\n"
     ]
    },
    {
     "name": "stderr",
     "output_type": "stream",
     "text": [
      "19.9s - loss: 0.030 - acc: 100.000: : 60032it [00:19, 3023.48it/s]                                                     \n"
     ]
    },
    {
     "name": "stdout",
     "output_type": "stream",
     "text": [
      "\n",
      "Train set: Average loss: 95.8420, Accuracy: 58020.0/60000 (96.70%)\n",
      "Test set: Average loss: 17.2222, Accuracy: 9648.0/10000 (96.48%)\n",
      "\n",
      "Epoch: 12 ...\n"
     ]
    },
    {
     "name": "stderr",
     "output_type": "stream",
     "text": [
      "20.0s - loss: 0.033 - acc: 96.875: : 60032it [00:19, 3055.30it/s]                                                      \n"
     ]
    },
    {
     "name": "stdout",
     "output_type": "stream",
     "text": [
      "\n",
      "Train set: Average loss: 92.2820, Accuracy: 58112.0/60000 (96.85%)\n",
      "Test set: Average loss: 16.5788, Accuracy: 9660.0/10000 (96.60%)\n",
      "\n",
      "Epoch: 13 ...\n"
     ]
    },
    {
     "name": "stderr",
     "output_type": "stream",
     "text": [
      "19.8s - loss: 0.013 - acc: 100.000: : 60032it [00:19, 3026.38it/s]                                                     \n"
     ]
    },
    {
     "name": "stdout",
     "output_type": "stream",
     "text": [
      "\n",
      "Train set: Average loss: 90.1717, Accuracy: 58179.0/60000 (96.97%)\n",
      "Test set: Average loss: 16.1267, Accuracy: 9679.0/10000 (96.79%)\n",
      "\n",
      "Epoch: 14 ...\n"
     ]
    },
    {
     "name": "stderr",
     "output_type": "stream",
     "text": [
      "20.0s - loss: 0.015 - acc: 100.000: : 60032it [00:19, 3004.52it/s]                                                     \n"
     ]
    },
    {
     "name": "stdout",
     "output_type": "stream",
     "text": [
      "\n",
      "Train set: Average loss: 89.3217, Accuracy: 58149.0/60000 (96.92%)\n",
      "Test set: Average loss: 16.5235, Accuracy: 9681.0/10000 (96.81%)\n",
      "\n",
      "Epoch: 15 ...\n"
     ]
    },
    {
     "name": "stderr",
     "output_type": "stream",
     "text": [
      "19.9s - loss: 0.038 - acc: 100.000: : 60032it [00:19, 3001.77it/s]                                                     \n"
     ]
    },
    {
     "name": "stdout",
     "output_type": "stream",
     "text": [
      "\n",
      "Train set: Average loss: 89.4782, Accuracy: 58177.0/60000 (96.96%)\n",
      "Test set: Average loss: 16.4862, Accuracy: 9683.0/10000 (96.83%)\n",
      "\n",
      "Epoch: 16 ...\n"
     ]
    },
    {
     "name": "stderr",
     "output_type": "stream",
     "text": [
      "19.8s - loss: 0.074 - acc: 96.875: : 60032it [00:19, 3034.76it/s]                                                      \n"
     ]
    },
    {
     "name": "stdout",
     "output_type": "stream",
     "text": [
      "\n",
      "Train set: Average loss: 88.8232, Accuracy: 58169.0/60000 (96.95%)\n",
      "Test set: Average loss: 16.4681, Accuracy: 9672.0/10000 (96.72%)\n",
      "\n",
      "Epoch: 17 ...\n"
     ]
    },
    {
     "name": "stderr",
     "output_type": "stream",
     "text": [
      "20.0s - loss: 0.017 - acc: 100.000: : 60032it [00:20, 2995.46it/s]                                                     \n"
     ]
    },
    {
     "name": "stdout",
     "output_type": "stream",
     "text": [
      "\n",
      "Train set: Average loss: 86.3062, Accuracy: 58219.0/60000 (97.03%)\n",
      "Test set: Average loss: 16.2816, Accuracy: 9666.0/10000 (96.66%)\n",
      "\n",
      "Epoch: 18 ...\n"
     ]
    },
    {
     "name": "stderr",
     "output_type": "stream",
     "text": [
      "19.9s - loss: 0.036 - acc: 100.000: : 60032it [00:19, 3008.75it/s]                                                     \n"
     ]
    },
    {
     "name": "stdout",
     "output_type": "stream",
     "text": [
      "\n",
      "Train set: Average loss: 86.0126, Accuracy: 58211.0/60000 (97.02%)\n",
      "Test set: Average loss: 16.8068, Accuracy: 9671.0/10000 (96.71%)\n",
      "\n",
      "Epoch: 19 ...\n"
     ]
    },
    {
     "name": "stderr",
     "output_type": "stream",
     "text": [
      "20.0s - loss: 0.013 - acc: 100.000: : 60032it [00:19, 3006.86it/s]                                                     \n"
     ]
    },
    {
     "name": "stdout",
     "output_type": "stream",
     "text": [
      "\n",
      "Train set: Average loss: 86.2987, Accuracy: 58247.0/60000 (97.08%)\n",
      "Test set: Average loss: 14.9515, Accuracy: 9697.0/10000 (96.97%)\n",
      "\n",
      "Epoch: 20 ...\n"
     ]
    },
    {
     "name": "stderr",
     "output_type": "stream",
     "text": [
      "20.0s - loss: 0.015 - acc: 100.000: : 60032it [00:20, 2999.30it/s]                                                     \n"
     ]
    },
    {
     "name": "stdout",
     "output_type": "stream",
     "text": [
      "\n",
      "Train set: Average loss: 81.2291, Accuracy: 58327.0/60000 (97.21%)\n",
      "Test set: Average loss: 15.3023, Accuracy: 9694.0/10000 (96.94%)\n",
      "\n",
      "Epoch: 21 ...\n"
     ]
    },
    {
     "name": "stderr",
     "output_type": "stream",
     "text": [
      "19.9s - loss: 0.078 - acc: 96.875: : 60032it [00:19, 3019.62it/s]                                                      \n"
     ]
    },
    {
     "name": "stdout",
     "output_type": "stream",
     "text": [
      "\n",
      "Train set: Average loss: 80.0183, Accuracy: 58370.0/60000 (97.28%)\n",
      "Test set: Average loss: 15.5546, Accuracy: 9701.0/10000 (97.01%)\n",
      "\n",
      "Epoch: 22 ...\n"
     ]
    },
    {
     "name": "stderr",
     "output_type": "stream",
     "text": [
      "20.0s - loss: 0.038 - acc: 100.000: : 60032it [00:19, 3005.62it/s]                                                     \n"
     ]
    },
    {
     "name": "stdout",
     "output_type": "stream",
     "text": [
      "\n",
      "Train set: Average loss: 79.4934, Accuracy: 58373.0/60000 (97.29%)\n",
      "Test set: Average loss: 15.6601, Accuracy: 9690.0/10000 (96.90%)\n",
      "\n",
      "Epoch: 23 ...\n"
     ]
    },
    {
     "name": "stderr",
     "output_type": "stream",
     "text": [
      "19.9s - loss: 0.054 - acc: 100.000: : 60032it [00:19, 3013.72it/s]                                                     \n"
     ]
    },
    {
     "name": "stdout",
     "output_type": "stream",
     "text": [
      "\n",
      "Train set: Average loss: 78.5784, Accuracy: 58389.0/60000 (97.32%)\n",
      "Test set: Average loss: 15.5762, Accuracy: 9703.0/10000 (97.03%)\n",
      "\n",
      "Epoch: 24 ...\n"
     ]
    },
    {
     "name": "stderr",
     "output_type": "stream",
     "text": [
      "19.8s - loss: 0.039 - acc: 100.000: : 60032it [00:19, 3028.20it/s]                                                     \n"
     ]
    },
    {
     "name": "stdout",
     "output_type": "stream",
     "text": [
      "\n",
      "Train set: Average loss: 78.3389, Accuracy: 58416.0/60000 (97.36%)\n",
      "Test set: Average loss: 15.7582, Accuracy: 9703.0/10000 (97.03%)\n",
      "\n",
      "Epoch: 25 ...\n"
     ]
    },
    {
     "name": "stderr",
     "output_type": "stream",
     "text": [
      "19.9s - loss: 0.027 - acc: 100.000: : 60032it [00:19, 3020.85it/s]                                                     \n"
     ]
    },
    {
     "name": "stdout",
     "output_type": "stream",
     "text": [
      "\n",
      "Train set: Average loss: 78.4589, Accuracy: 58394.0/60000 (97.32%)\n",
      "Test set: Average loss: 15.7050, Accuracy: 9681.0/10000 (96.81%)\n",
      "\n",
      "Epoch: 26 ...\n"
     ]
    },
    {
     "name": "stderr",
     "output_type": "stream",
     "text": [
      "20.0s - loss: 0.037 - acc: 100.000: : 60032it [00:20, 2986.40it/s]                                                     \n"
     ]
    },
    {
     "name": "stdout",
     "output_type": "stream",
     "text": [
      "\n",
      "Train set: Average loss: 79.6025, Accuracy: 58380.0/60000 (97.30%)\n",
      "Test set: Average loss: 14.9184, Accuracy: 9683.0/10000 (96.83%)\n",
      "\n",
      "Epoch: 27 ...\n"
     ]
    },
    {
     "name": "stderr",
     "output_type": "stream",
     "text": [
      "19.9s - loss: 0.038 - acc: 100.000: : 60032it [00:19, 3019.05it/s]                                                     \n"
     ]
    },
    {
     "name": "stdout",
     "output_type": "stream",
     "text": [
      "\n",
      "Train set: Average loss: 77.3701, Accuracy: 58404.0/60000 (97.34%)\n",
      "Test set: Average loss: 15.4224, Accuracy: 9699.0/10000 (96.99%)\n",
      "\n",
      "Epoch: 28 ...\n"
     ]
    },
    {
     "name": "stderr",
     "output_type": "stream",
     "text": [
      "19.9s - loss: 0.058 - acc: 96.875: : 60032it [00:19, 3017.14it/s]                                                      \n"
     ]
    },
    {
     "name": "stdout",
     "output_type": "stream",
     "text": [
      "\n",
      "Train set: Average loss: 76.4408, Accuracy: 58416.0/60000 (97.36%)\n",
      "Test set: Average loss: 15.7033, Accuracy: 9686.0/10000 (96.86%)\n",
      "\n",
      "Epoch: 29 ...\n"
     ]
    },
    {
     "name": "stderr",
     "output_type": "stream",
     "text": [
      "19.9s - loss: 0.022 - acc: 100.000: : 60032it [00:19, 3021.56it/s]                                                     \n"
     ]
    },
    {
     "name": "stdout",
     "output_type": "stream",
     "text": [
      "\n",
      "Train set: Average loss: 75.9263, Accuracy: 58426.0/60000 (97.38%)\n",
      "Test set: Average loss: 16.2608, Accuracy: 9677.0/10000 (96.77%)\n",
      "\n",
      "Epoch: 30 ...\n"
     ]
    },
    {
     "name": "stderr",
     "output_type": "stream",
     "text": [
      "19.9s - loss: 0.060 - acc: 100.000: : 60032it [00:19, 3014.98it/s]                                                     \n"
     ]
    },
    {
     "name": "stdout",
     "output_type": "stream",
     "text": [
      "\n",
      "Train set: Average loss: 74.7741, Accuracy: 58447.0/60000 (97.41%)\n",
      "Test set: Average loss: 15.3384, Accuracy: 9686.0/10000 (96.86%)\n",
      "\n",
      "Epoch: 31 ...\n"
     ]
    },
    {
     "name": "stderr",
     "output_type": "stream",
     "text": [
      "19.8s - loss: 0.026 - acc: 100.000: : 60032it [00:19, 3024.45it/s]                                                     \n"
     ]
    },
    {
     "name": "stdout",
     "output_type": "stream",
     "text": [
      "\n",
      "Train set: Average loss: 73.9123, Accuracy: 58460.0/60000 (97.43%)\n",
      "Test set: Average loss: 15.5927, Accuracy: 9680.0/10000 (96.80%)\n",
      "\n",
      "Epoch: 32 ...\n"
     ]
    },
    {
     "name": "stderr",
     "output_type": "stream",
     "text": [
      "19.9s - loss: 0.050 - acc: 100.000: : 60032it [00:19, 3014.48it/s]                                                     \n"
     ]
    },
    {
     "name": "stdout",
     "output_type": "stream",
     "text": [
      "\n",
      "Train set: Average loss: 73.7454, Accuracy: 58474.0/60000 (97.46%)\n",
      "Test set: Average loss: 15.2779, Accuracy: 9685.0/10000 (96.85%)\n",
      "\n",
      "Epoch: 33 ...\n"
     ]
    },
    {
     "name": "stderr",
     "output_type": "stream",
     "text": [
      "20.0s - loss: 0.107 - acc: 100.000: : 60032it [00:20, 2511.41it/s]                                                     \n"
     ]
    },
    {
     "name": "stdout",
     "output_type": "stream",
     "text": [
      "\n",
      "Train set: Average loss: 74.3455, Accuracy: 58444.0/60000 (97.41%)\n",
      "Test set: Average loss: 16.1564, Accuracy: 9675.0/10000 (96.75%)\n",
      "\n",
      "Epoch: 34 ...\n"
     ]
    },
    {
     "name": "stderr",
     "output_type": "stream",
     "text": [
      "19.9s - loss: 0.058 - acc: 96.875: : 60032it [00:19, 3023.70it/s]                                                      \n"
     ]
    },
    {
     "name": "stdout",
     "output_type": "stream",
     "text": [
      "\n",
      "Train set: Average loss: 74.1833, Accuracy: 58474.0/60000 (97.46%)\n",
      "Test set: Average loss: 15.2979, Accuracy: 9696.0/10000 (96.96%)\n",
      "\n",
      "Epoch: 35 ...\n"
     ]
    },
    {
     "name": "stderr",
     "output_type": "stream",
     "text": [
      "19.9s - loss: 0.049 - acc: 100.000: : 60032it [00:19, 3019.42it/s]                                                     \n"
     ]
    },
    {
     "name": "stdout",
     "output_type": "stream",
     "text": [
      "\n",
      "Train set: Average loss: 74.3266, Accuracy: 58454.0/60000 (97.42%)\n",
      "Test set: Average loss: 15.7330, Accuracy: 9682.0/10000 (96.82%)\n",
      "\n",
      "Epoch: 36 ...\n"
     ]
    },
    {
     "name": "stderr",
     "output_type": "stream",
     "text": [
      "19.8s - loss: 0.034 - acc: 100.000: : 60032it [00:19, 3030.58it/s]                                                     \n"
     ]
    },
    {
     "name": "stdout",
     "output_type": "stream",
     "text": [
      "\n",
      "Train set: Average loss: 73.9909, Accuracy: 58462.0/60000 (97.44%)\n",
      "Test set: Average loss: 15.6793, Accuracy: 9687.0/10000 (96.87%)\n",
      "\n",
      "Epoch: 37 ...\n"
     ]
    },
    {
     "name": "stderr",
     "output_type": "stream",
     "text": [
      "19.9s - loss: 0.048 - acc: 100.000: : 60032it [00:19, 3022.31it/s]                                                     \n"
     ]
    },
    {
     "name": "stdout",
     "output_type": "stream",
     "text": [
      "\n",
      "Train set: Average loss: 73.8159, Accuracy: 58489.0/60000 (97.48%)\n",
      "Test set: Average loss: 16.0362, Accuracy: 9673.0/10000 (96.73%)\n",
      "\n",
      "Epoch: 38 ...\n"
     ]
    },
    {
     "name": "stderr",
     "output_type": "stream",
     "text": [
      "19.9s - loss: 0.040 - acc: 100.000: : 60032it [00:19, 3016.53it/s]                                                     \n"
     ]
    },
    {
     "name": "stdout",
     "output_type": "stream",
     "text": [
      "\n",
      "Train set: Average loss: 73.3135, Accuracy: 58449.0/60000 (97.42%)\n",
      "Test set: Average loss: 15.6698, Accuracy: 9679.0/10000 (96.79%)\n",
      "\n",
      "Epoch: 39 ...\n"
     ]
    },
    {
     "name": "stderr",
     "output_type": "stream",
     "text": [
      "19.8s - loss: 0.164 - acc: 93.750: : 60032it [00:19, 3030.08it/s]                                                      \n"
     ]
    },
    {
     "name": "stdout",
     "output_type": "stream",
     "text": [
      "\n",
      "Train set: Average loss: 74.0166, Accuracy: 58453.0/60000 (97.42%)\n",
      "Test set: Average loss: 16.2312, Accuracy: 9668.0/10000 (96.68%)\n",
      "\n",
      "Epoch: 40 ...\n"
     ]
    },
    {
     "name": "stderr",
     "output_type": "stream",
     "text": [
      "19.9s - loss: 0.053 - acc: 96.875: : 60032it [00:19, 3018.57it/s]                                                      \n"
     ]
    },
    {
     "name": "stdout",
     "output_type": "stream",
     "text": [
      "\n",
      "Train set: Average loss: 72.6275, Accuracy: 58506.0/60000 (97.51%)\n",
      "Test set: Average loss: 16.3040, Accuracy: 9663.0/10000 (96.63%)\n",
      "\n",
      "Epoch: 41 ...\n"
     ]
    },
    {
     "name": "stderr",
     "output_type": "stream",
     "text": [
      "19.9s - loss: 0.043 - acc: 100.000: : 60032it [00:19, 3012.49it/s]                                                     \n"
     ]
    },
    {
     "name": "stdout",
     "output_type": "stream",
     "text": [
      "\n",
      "Train set: Average loss: 72.6314, Accuracy: 58484.0/60000 (97.47%)\n",
      "Test set: Average loss: 15.9081, Accuracy: 9675.0/10000 (96.75%)\n",
      "\n",
      "Epoch: 42 ...\n"
     ]
    },
    {
     "name": "stderr",
     "output_type": "stream",
     "text": [
      "19.9s - loss: 0.039 - acc: 100.000: : 60032it [00:19, 3016.74it/s]                                                     \n"
     ]
    },
    {
     "name": "stdout",
     "output_type": "stream",
     "text": [
      "\n",
      "Train set: Average loss: 71.3698, Accuracy: 58479.0/60000 (97.47%)\n",
      "Test set: Average loss: 15.7054, Accuracy: 9661.0/10000 (96.61%)\n",
      "\n",
      "Epoch: 43 ...\n"
     ]
    },
    {
     "name": "stderr",
     "output_type": "stream",
     "text": [
      "19.8s - loss: 0.145 - acc: 90.625: : 60032it [00:19, 3027.19it/s]                                                      \n"
     ]
    },
    {
     "name": "stdout",
     "output_type": "stream",
     "text": [
      "\n",
      "Train set: Average loss: 71.6463, Accuracy: 58472.0/60000 (97.45%)\n",
      "Test set: Average loss: 16.0483, Accuracy: 9664.0/10000 (96.64%)\n",
      "\n",
      "Epoch: 44 ...\n"
     ]
    },
    {
     "name": "stderr",
     "output_type": "stream",
     "text": [
      "19.9s - loss: 0.052 - acc: 100.000: : 60032it [00:19, 3017.00it/s]                                                     \n"
     ]
    },
    {
     "name": "stdout",
     "output_type": "stream",
     "text": [
      "\n",
      "Train set: Average loss: 71.1685, Accuracy: 58517.0/60000 (97.53%)\n",
      "Test set: Average loss: 16.0111, Accuracy: 9668.0/10000 (96.68%)\n",
      "\n",
      "Epoch: 45 ...\n"
     ]
    },
    {
     "name": "stderr",
     "output_type": "stream",
     "text": [
      "19.9s - loss: 0.061 - acc: 100.000: : 60032it [00:19, 3020.39it/s]                                                     \n"
     ]
    },
    {
     "name": "stdout",
     "output_type": "stream",
     "text": [
      "\n",
      "Train set: Average loss: 72.1576, Accuracy: 58483.0/60000 (97.47%)\n",
      "Test set: Average loss: 15.8982, Accuracy: 9665.0/10000 (96.65%)\n",
      "\n",
      "Epoch: 46 ...\n"
     ]
    },
    {
     "name": "stderr",
     "output_type": "stream",
     "text": [
      "19.9s - loss: 0.033 - acc: 100.000: : 60032it [00:19, 3015.44it/s]                                                     \n"
     ]
    },
    {
     "name": "stdout",
     "output_type": "stream",
     "text": [
      "\n",
      "Train set: Average loss: 72.1337, Accuracy: 58501.0/60000 (97.50%)\n",
      "Test set: Average loss: 16.3417, Accuracy: 9675.0/10000 (96.75%)\n",
      "\n",
      "Epoch: 47 ...\n"
     ]
    },
    {
     "name": "stderr",
     "output_type": "stream",
     "text": [
      "19.9s - loss: 0.051 - acc: 96.875: : 60032it [00:19, 3019.52it/s]                                                      \n"
     ]
    },
    {
     "name": "stdout",
     "output_type": "stream",
     "text": [
      "\n",
      "Train set: Average loss: 71.6919, Accuracy: 58509.0/60000 (97.51%)\n",
      "Test set: Average loss: 16.0821, Accuracy: 9668.0/10000 (96.68%)\n",
      "\n",
      "Epoch: 48 ...\n"
     ]
    },
    {
     "name": "stderr",
     "output_type": "stream",
     "text": [
      "19.9s - loss: 0.070 - acc: 96.875: : 60032it [00:19, 3017.14it/s]                                                      \n"
     ]
    },
    {
     "name": "stdout",
     "output_type": "stream",
     "text": [
      "\n",
      "Train set: Average loss: 71.3919, Accuracy: 58527.0/60000 (97.54%)\n",
      "Test set: Average loss: 16.0052, Accuracy: 9682.0/10000 (96.82%)\n",
      "\n",
      "Epoch: 49 ...\n"
     ]
    },
    {
     "name": "stderr",
     "output_type": "stream",
     "text": [
      "19.9s - loss: 0.040 - acc: 100.000: : 60032it [00:19, 3011.46it/s]                                                     \n"
     ]
    },
    {
     "name": "stdout",
     "output_type": "stream",
     "text": [
      "\n",
      "Train set: Average loss: 70.8023, Accuracy: 58538.0/60000 (97.56%)\n",
      "Test set: Average loss: 15.8987, Accuracy: 9673.0/10000 (96.73%)\n",
      "\n"
     ]
    },
    {
     "data": {
      "image/png": "[encoded data removed]",
      "text/plain": [
       "<Figure size 432x288 with 1 Axes>"
      ]
     },
     "metadata": {},
     "output_type": "display_data"
    },
    {
     "data": {
      "image/png": "[encoded data removed]",
      "text/plain": [
       "<Figure size 432x288 with 1 Axes>"
      ]
     },
     "metadata": {},
     "output_type": "display_data"
    }
   ],
   "source": [
    "# Training Model 2\n",
    "train_model(tron, epochs)"
   ]
  },
  {
   "cell_type": "markdown",
   "metadata": {},
   "source": [
    "### Visualise the activations"
   ]
  },
  {
   "cell_type": "markdown",
   "metadata": {},
   "source": [
    "**Visualise the input image**"
   ]
  },
  {
   "cell_type": "code",
   "execution_count": 19,
   "metadata": {},
   "outputs": [
    {
     "data": {
      "text/plain": [
       "<matplotlib.image.AxesImage at 0x2c79bbd4400>"
      ]
     },
     "execution_count": 19,
     "metadata": {},
     "output_type": "execute_result"
    },
    {
     "data": {
      "image/png": "[encoded data removed]",
      "text/plain": [
       "<Figure size 432x288 with 1 Axes>"
      ]
     },
     "metadata": {},
     "output_type": "display_data"
    }
   ],
   "source": [
    "plt.imshow(np.squeeze(lenet5.lastx.cpu()[0,0].data.numpy()), cmap='gray')"
   ]
  },
  {
   "cell_type": "markdown",
   "metadata": {},
   "source": [
    "**Visualise the LetNet layers**"
   ]
  },
  {
   "cell_type": "code",
   "execution_count": 26,
   "metadata": {},
   "outputs": [
    {
     "data": {
      "image/png": "[encoded data removed]",
      "text/plain": [
       "<Figure size 1152x864 with 6 Axes>"
      ]
     },
     "metadata": {},
     "output_type": "display_data"
    },
    {
     "data": {
      "image/png": "[encoded data removed]",
      "text/plain": [
       "<Figure size 1152x864 with 6 Axes>"
      ]
     },
     "metadata": {},
     "output_type": "display_data"
    }
   ],
   "source": [
    "viz_layer(lenet5.xc1.cpu())\n",
    "viz_layer(lenet5.xa1.cpu())"
   ]
  },
  {
   "cell_type": "code",
   "execution_count": 27,
   "metadata": {},
   "outputs": [
    {
     "data": {
      "image/png": "[encoded data removed]",
      "text/plain": [
       "<Figure size 1152x864 with 16 Axes>"
      ]
     },
     "metadata": {},
     "output_type": "display_data"
    },
    {
     "data": {
      "image/png": "[encoded data removed]",
      "text/plain": [
       "<Figure size 1152x864 with 16 Axes>"
      ]
     },
     "metadata": {},
     "output_type": "display_data"
    }
   ],
   "source": [
    "viz_layer(lenet5.xc2.cpu())\n",
    "viz_layer(lenet5.xa2.cpu())"
   ]
  },
  {
   "cell_type": "markdown",
   "metadata": {},
   "source": [
    "**Visualise the PAN layers**"
   ]
  },
  {
   "cell_type": "code",
   "execution_count": 28,
   "metadata": {},
   "outputs": [
    {
     "data": {
      "image/png": "[encoded data removed]",
      "text/plain": [
       "<Figure size 1152x864 with 6 Axes>"
      ]
     },
     "metadata": {},
     "output_type": "display_data"
    },
    {
     "data": {
      "image/png": "[encoded data removed]",
      "text/plain": [
       "<Figure size 1152x864 with 6 Axes>"
      ]
     },
     "metadata": {},
     "output_type": "display_data"
    }
   ],
   "source": [
    "viz_layer(tron.xc1.cpu())\n",
    "viz_layer(tron.xa1.cpu())"
   ]
  },
  {
   "cell_type": "code",
   "execution_count": 29,
   "metadata": {},
   "outputs": [
    {
     "data": {
      "image/png": "[encoded data removed]",
      "text/plain": [
       "<Figure size 1152x864 with 16 Axes>"
      ]
     },
     "metadata": {},
     "output_type": "display_data"
    },
    {
     "data": {
      "image/png": "[encoded data removed]",
      "text/plain": [
       "<Figure size 1152x864 with 16 Axes>"
      ]
     },
     "metadata": {},
     "output_type": "display_data"
    }
   ],
   "source": [
    "viz_layer(tron.xc2.cpu())\n",
    "viz_layer(tron.xa2.cpu())"
   ]
  },
  {
   "cell_type": "code",
   "execution_count": null,
   "metadata": {},
   "outputs": [],
   "source": []
  }
 ],
 "metadata": {
  "anaconda-cloud": {},
  "kernelspec": {
   "display_name": "Python 3",
   "language": "python",
   "name": "python3"
  },
  "language_info": {
   "codemirror_mode": {
    "name": "ipython",
    "version": 3
   },
   "file_extension": ".py",
   "mimetype": "text/x-python",
   "name": "python",
   "nbconvert_exporter": "python",
   "pygments_lexer": "ipython3",
   "version": "3.6.5"
  }
 },
 "nbformat": 4,
 "nbformat_minor": 2
}
