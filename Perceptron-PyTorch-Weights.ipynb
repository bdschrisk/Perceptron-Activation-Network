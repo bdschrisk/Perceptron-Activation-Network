{
 "cells": [
  {
   "cell_type": "markdown",
   "metadata": {},
   "source": [
    "## Implementing a Perceptron in Pytorch\n",
    "### With a learning example"
   ]
  },
  {
   "cell_type": "code",
   "execution_count": 1,
   "metadata": {
    "collapsed": true
   },
   "outputs": [],
   "source": [
    "# Import libraries\n",
    "import matplotlib.pyplot as plt\n",
    "# Visualizations will be shown in the notebook.\n",
    "%matplotlib inline\n",
    "\n",
    "import random\n",
    "import os\n",
    "import glob\n",
    "import pickle\n",
    "import time\n",
    "import string\n",
    "from PIL import Image\n",
    "import numpy as np\n",
    "import json\n",
    "\n",
    "import torch as torch\n",
    "import torch.nn as nn    \n",
    "import torch.nn.functional as F\n",
    "from torch.nn.parameter import Parameter\n",
    "from torch import optim\n",
    "from torch.autograd import Variable\n",
    "from torchvision import datasets, transforms, models"
   ]
  },
  {
   "cell_type": "code",
   "execution_count": 2,
   "metadata": {},
   "outputs": [
    {
     "name": "stdout",
     "output_type": "stream",
     "text": [
      "Using PyTorch version: 1.0.0\n"
     ]
    }
   ],
   "source": [
    "print(\"Using PyTorch version: \" + str(torch.__version__))"
   ]
  },
  {
   "cell_type": "code",
   "execution_count": 3,
   "metadata": {},
   "outputs": [
    {
     "data": {
      "text/plain": [
       "<torch._C.Generator at 0x234147ae070>"
      ]
     },
     "execution_count": 3,
     "metadata": {},
     "output_type": "execute_result"
    }
   ],
   "source": [
    "use_gpu = False\n",
    "torch.manual_seed(7)"
   ]
  },
  {
   "cell_type": "markdown",
   "metadata": {},
   "source": [
    "**Setup the dataset**"
   ]
  },
  {
   "cell_type": "code",
   "execution_count": 4,
   "metadata": {
    "collapsed": true
   },
   "outputs": [],
   "source": [
    "# Define a transform to normalize the data\n",
    "transform = transforms.Compose([transforms.ToTensor(),\n",
    "                                transforms.Normalize((0.5, 0.5, 0.5), (0.5, 0.5, 0.5)),\n",
    "                              ])\n",
    "# Download and load the training data\n",
    "trainset = datasets.MNIST('~/.pytorch/MNIST_data/train/', download=True, train=True, transform=transform)\n",
    "testset = datasets.MNIST('~/.pytorch/MNIST_data/valid/', download=True, train=False, transform=transform)\n",
    "train_loader = torch.utils.data.DataLoader(trainset, batch_size=64, shuffle=False)\n",
    "test_loader = torch.utils.data.DataLoader(testset, batch_size=64, shuffle=False)"
   ]
  },
  {
   "cell_type": "markdown",
   "metadata": {},
   "source": [
    "**Build a classifier**"
   ]
  },
  {
   "cell_type": "code",
   "execution_count": 5,
   "metadata": {
    "collapsed": true
   },
   "outputs": [],
   "source": [
    "class LeNet5(nn.Module):\n",
    "    def __init__(self):\n",
    "        super().__init__()\n",
    "        self.conv1 = nn.Conv2d(1, 6, 5, padding=2)\n",
    "        self.conv2 = nn.Conv2d(6, 16, 5)\n",
    "        self.fc1 = nn.Linear(16*5*5, 120)\n",
    "        self.fc2 = nn.Linear(120, 84)\n",
    "        self.fc3 = nn.Linear(84, 10)\n",
    "        self.softmax = nn.LogSoftmax()\n",
    "        \n",
    "        \n",
    "    def forward(self, x):\n",
    "        x = F.max_pool2d(F.relu(self.conv1(x)), (2, 2))\n",
    "        x = F.max_pool2d(F.relu(self.conv2(x)), (2, 2))\n",
    "        x = x.view(-1, self.num_flat_features(x))\n",
    "        x = F.relu(self.fc1(x))\n",
    "        x = F.relu(self.fc2(x))\n",
    "        x = self.fc3(x)\n",
    "        x = self.softmax(x)\n",
    "        \n",
    "        return x\n",
    "    \n",
    "    def num_flat_features(self, x):\n",
    "        size = x.size()[1:]\n",
    "        num_features = 1\n",
    "        for s in size:\n",
    "            num_features *= s\n",
    "        return num_features"
   ]
  },
  {
   "cell_type": "markdown",
   "metadata": {},
   "source": [
    "**Define the Perceptron module**"
   ]
  },
  {
   "cell_type": "code",
   "execution_count": 6,
   "metadata": {
    "collapsed": true
   },
   "outputs": [],
   "source": [
    "class Perceptron(nn.Module):\n",
    "    def __init__(self, inputs, outputs, minimum = 0.0):\n",
    "        super(Perceptron, self).__init__()\n",
    "        self.inputs = inputs\n",
    "        self.outputs = outputs\n",
    "        \n",
    "        # student network\n",
    "        self.Sb = Parameter(torch.ones(self.outputs, requires_grad=True))\n",
    "        self.SW = Parameter(torch.randn(self.outputs, self.inputs, requires_grad=True))\n",
    "        #print(\"SW shape: {}\\nSb shape: {}\".format(self.SW.size(), self.Sb.size()))\n",
    "        \n",
    "        # teacher network\n",
    "        self.S_o, self.S_i = self.SW.size()\n",
    "        self.Tb = Parameter(torch.ones(self.S_o * self.S_i, requires_grad=True))\n",
    "        self.TW = Parameter(torch.randn(self.S_o * self.S_i, self.inputs, requires_grad=True))\n",
    "        #print(\"TW shape: {}\\nTb shape: {}\".format(self.TW.size(), self.Tb.size()))\n",
    "        \n",
    "        self.min_val = torch.tensor(minimum).float()\n",
    "        \n",
    "        \n",
    "    def forward(self, x):\n",
    "        # teacher signal\n",
    "        #print(\"x shape: {}\".format(x.size()))\n",
    "        self.Tz = F.linear(x, self.TW, self.Tb)\n",
    "        #print(\"Tz shape: {}\\nTW shape: {}\\nTb shape: {}\".format(self.Tz.size(), self.TW.size(), self.Tb.size()))\n",
    "        self.Th = torch.matmul(self.Tz.t(), torch.ones(x.size()[0]))\n",
    "        # perceptron gate\n",
    "        self.o = torch.gt(self.Th, self.min_val).float()\n",
    "        #print(\"o shape: {}\".format(self.o.size()))\n",
    "        \n",
    "        self.o = self.o.view(self.S_o, self.S_i)\n",
    "        #print(\"o shape: {}\".format(self.o.size()))\n",
    "        self.W = torch.mul(self.o, self.SW)\n",
    "        \n",
    "        # student signal\n",
    "        x = F.linear(x, self.W, self.Sb)\n",
    "        \n",
    "        return x"
   ]
  },
  {
   "cell_type": "code",
   "execution_count": 7,
   "metadata": {
    "collapsed": true
   },
   "outputs": [],
   "source": [
    "class Tron(nn.Module):\n",
    "    def __init__(self):\n",
    "        super(Tron, self).__init__()\n",
    "        self.conv1 = nn.Conv2d(1, 6, 5, padding=2)\n",
    "        self.conv2 = nn.Conv2d(6, 16, 5)\n",
    "        \n",
    "        self.tron1 = Perceptron(16*5*5, 120)\n",
    "        self.tron2 = Perceptron(120, 84)\n",
    "        \n",
    "        self.fc3 = nn.Linear(84, 10)\n",
    "        self.softmax = nn.LogSoftmax()\n",
    "        \n",
    "    def forward(self, x):\n",
    "        x = F.max_pool2d(F.relu(self.conv1(x)), (2, 2))\n",
    "        x = F.max_pool2d(F.relu(self.conv2(x)), (2, 2))\n",
    "        x = x.view(-1, self.num_flat_features(x))\n",
    "        \n",
    "        x = self.tron1(x)\n",
    "        x = self.tron2(x)\n",
    "        \n",
    "        x = self.fc3(x)\n",
    "        x = self.softmax(x)\n",
    "        \n",
    "        return x\n",
    "    \n",
    "    def num_flat_features(self, x):\n",
    "        size = x.size()[1:]\n",
    "        num_features = 1\n",
    "        for s in size:\n",
    "            num_features *= s\n",
    "        return num_features"
   ]
  },
  {
   "cell_type": "markdown",
   "metadata": {},
   "source": [
    "### Training the network"
   ]
  },
  {
   "cell_type": "markdown",
   "metadata": {},
   "source": [
    "**Loss plotting functions**"
   ]
  },
  {
   "cell_type": "code",
   "execution_count": 8,
   "metadata": {
    "collapsed": true
   },
   "outputs": [],
   "source": [
    "def plot_training(train_losses, valid_losses, title):\n",
    "    plt.subplot(1, 2, 1)\n",
    "    plt.plot(train_losses, label='Training ' + title)\n",
    "    plt.plot(valid_losses, label='Validation ' + title)\n",
    "    plt.xlabel('epochs')\n",
    "    plt.legend(frameon=False)\n",
    "    plt.title(title)\n",
    "    plt.show()"
   ]
  },
  {
   "cell_type": "markdown",
   "metadata": {},
   "source": [
    "**Train the network**"
   ]
  },
  {
   "cell_type": "code",
   "execution_count": 9,
   "metadata": {
    "collapsed": true
   },
   "outputs": [],
   "source": [
    "def train(model, epoch, criterion, optimizer):\n",
    "    \n",
    "    model.train()\n",
    "    train_loss = 0\n",
    "    correct = 0\n",
    "    \n",
    "    for batch_idx, (data, target) in enumerate(train_loader):\n",
    "        if use_gpu:\n",
    "            data, target = data.cuda(), target.cuda()\n",
    "        \n",
    "        data, target = Variable(data), Variable(target)\n",
    "        \n",
    "        optimizer.zero_grad()\n",
    "        \n",
    "        output = model(data)\n",
    "        \n",
    "        loss = criterion(output, target)\n",
    "        loss.backward()\n",
    "        \n",
    "        train_loss += loss.item()\n",
    "        \n",
    "        predicted = torch.max(output, 1)[1]\n",
    "        correct += (predicted == target).float().sum()\n",
    "        \n",
    "        optimizer.step()\n",
    "        \n",
    "    print('\\nTrain set: Average loss: {:.4f}, Accuracy: {}/{} ({:.2f}%)'.format(\n",
    "        train_loss, correct, len(train_loader.dataset),\n",
    "        100. * correct / len(train_loader.dataset)))\n",
    "        \n",
    "    return train_loss, correct / len(train_loader.dataset)"
   ]
  },
  {
   "cell_type": "code",
   "execution_count": 10,
   "metadata": {
    "collapsed": true
   },
   "outputs": [],
   "source": [
    "def test(model, criterion, optimizer):\n",
    "    model.eval()\n",
    "    \n",
    "    test_loss = 0\n",
    "    correct = 0\n",
    "    \n",
    "    for data, target in test_loader:\n",
    "        if use_gpu:\n",
    "            data, target = data.cuda(), target.cuda()\n",
    "        \n",
    "        data, target = Variable(data), Variable(target)\n",
    "        \n",
    "        output = model(data)\n",
    "        loss = criterion(output, target)\n",
    "        \n",
    "        test_loss += loss.item()\n",
    "        predicted = torch.max(output, 1)[1]\n",
    "        correct += (predicted == target).float().sum()\n",
    "    \n",
    "    print('Test set: Average loss: {:.4f}, Accuracy: {}/{} ({:.2f}%)\\n'.format(\n",
    "        test_loss, correct, len(test_loader.dataset),\n",
    "        100. * correct / len(test_loader.dataset)))\n",
    "    \n",
    "    return test_loss, correct / len(test_loader.dataset)"
   ]
  },
  {
   "cell_type": "code",
   "execution_count": 11,
   "metadata": {
    "collapsed": true
   },
   "outputs": [],
   "source": [
    "# Train Model\n",
    "def train_model(model, epochs):\n",
    "    \n",
    "    criteria = nn.NLLLoss()\n",
    "    optimise = optim.SGD(model.parameters(), lr=0.003)\n",
    "    #scheduler = optim.lr_scheduler.StepLR(optimise, step_size=20, gamma=0.5)\n",
    "    \n",
    "    train_losses, train_accs = [], []\n",
    "    valid_losses, valid_accs = [], []\n",
    "\n",
    "    for e in range(epochs):\n",
    "        print(\"Epoch: {} ...\".format(e))\n",
    "        #scheduler.step()\n",
    "        \n",
    "        t_loss, t_acc = train(model, e, criteria, optimise)\n",
    "        v_loss, v_acc = test(model, criteria, optimise)\n",
    "\n",
    "        train_losses.append(t_loss)\n",
    "        valid_losses.append(v_loss)\n",
    "        train_accs.append(t_acc)\n",
    "        valid_accs.append(v_acc)\n",
    "    \n",
    "    plot_training(train_losses, valid_losses, 'Loss')\n",
    "    plot_training(train_accs, valid_accs, 'Accuracy')"
   ]
  },
  {
   "cell_type": "code",
   "execution_count": 12,
   "metadata": {
    "collapsed": true
   },
   "outputs": [],
   "source": [
    "# Training Parameters\n",
    "epochs = 5"
   ]
  },
  {
   "cell_type": "markdown",
   "metadata": {},
   "source": [
    "**Train LeNet5**"
   ]
  },
  {
   "cell_type": "code",
   "execution_count": 13,
   "metadata": {
    "collapsed": true
   },
   "outputs": [],
   "source": [
    "# Standard LeNet5\n",
    "model1 = LeNet5()"
   ]
  },
  {
   "cell_type": "code",
   "execution_count": 14,
   "metadata": {},
   "outputs": [
    {
     "name": "stdout",
     "output_type": "stream",
     "text": [
      "Epoch: 0 ...\n"
     ]
    },
    {
     "name": "stderr",
     "output_type": "stream",
     "text": [
      "C:\\Users\\palladium\\AppData\\Local\\Continuum\\Anaconda3\\lib\\site-packages\\ipykernel\\__main__.py:19: UserWarning: Implicit dimension choice for log_softmax has been deprecated. Change the call to include dim=X as an argument.\n"
     ]
    },
    {
     "name": "stdout",
     "output_type": "stream",
     "text": [
      "\n",
      "Train set: Average loss: 2154.0102, Accuracy: 6664.0/60000 (11.11%)\n",
      "Test set: Average loss: 358.8486, Accuracy: 2073.0/10000 (20.73%)\n",
      "\n",
      "Epoch: 1 ...\n",
      "\n",
      "Train set: Average loss: 2103.9591, Accuracy: 26521.0/60000 (44.20%)\n",
      "Test set: Average loss: 334.1136, Accuracy: 5597.0/10000 (55.97%)\n",
      "\n",
      "Epoch: 2 ...\n",
      "\n",
      "Train set: Average loss: 1272.3104, Accuracy: 39112.0/60000 (65.19%)\n",
      "Test set: Average loss: 106.3572, Accuracy: 7909.0/10000 (79.09%)\n",
      "\n",
      "Epoch: 3 ...\n",
      "\n",
      "Train set: Average loss: 438.5061, Accuracy: 51632.0/60000 (86.05%)\n",
      "Test set: Average loss: 54.3292, Accuracy: 8918.0/10000 (89.18%)\n",
      "\n",
      "Epoch: 4 ...\n",
      "\n",
      "Train set: Average loss: 282.8247, Accuracy: 54559.0/60000 (90.93%)\n",
      "Test set: Average loss: 39.2924, Accuracy: 9190.0/10000 (91.90%)\n",
      "\n"
     ]
    },
    {
     "data": {
      "image/png": "[encoded data removed]",
      "text/plain": [
       "<matplotlib.figure.Figure at 0x23415224160>"
      ]
     },
     "metadata": {},
     "output_type": "display_data"
    },
    {
     "data": {
      "image/png": "[encoded data removed]",
      "text/plain": [
       "<matplotlib.figure.Figure at 0x23418727f98>"
      ]
     },
     "metadata": {},
     "output_type": "display_data"
    }
   ],
   "source": [
    "train_model(model1, epochs)"
   ]
  },
  {
   "cell_type": "markdown",
   "metadata": {},
   "source": [
    "**Train MLP Activation Network**"
   ]
  },
  {
   "cell_type": "code",
   "execution_count": 15,
   "metadata": {},
   "outputs": [],
   "source": [
    "# Model with MLP Activation\n",
    "model2 = Tron()"
   ]
  },
  {
   "cell_type": "code",
   "execution_count": 16,
   "metadata": {},
   "outputs": [
    {
     "name": "stdout",
     "output_type": "stream",
     "text": [
      "Epoch: 0 ...\n"
     ]
    },
    {
     "name": "stderr",
     "output_type": "stream",
     "text": [
      "C:\\Users\\palladium\\AppData\\Local\\Continuum\\Anaconda3\\lib\\site-packages\\ipykernel\\__main__.py:22: UserWarning: Implicit dimension choice for log_softmax has been deprecated. Change the call to include dim=X as an argument.\n"
     ]
    },
    {
     "name": "stdout",
     "output_type": "stream",
     "text": [
      "\n",
      "Train set: Average loss: 673.1965, Accuracy: 49898.0/60000 (83.16%)\n",
      "Test set: Average loss: 64.5144, Accuracy: 8897.0/10000 (88.97%)\n",
      "\n",
      "Epoch: 1 ...\n",
      "\n",
      "Train set: Average loss: 205.8413, Accuracy: 56215.0/60000 (93.69%)\n",
      "Test set: Average loss: 31.9245, Accuracy: 9415.0/10000 (94.15%)\n",
      "\n",
      "Epoch: 2 ...\n",
      "\n",
      "Train set: Average loss: 153.9128, Accuracy: 57098.0/60000 (95.16%)\n",
      "Test set: Average loss: 24.8715, Accuracy: 9533.0/10000 (95.33%)\n",
      "\n",
      "Epoch: 3 ...\n",
      "\n",
      "Train set: Average loss: 132.3122, Accuracy: 57451.0/60000 (95.75%)\n",
      "Test set: Average loss: 22.5384, Accuracy: 9560.0/10000 (95.60%)\n",
      "\n",
      "Epoch: 4 ...\n",
      "\n",
      "Train set: Average loss: 118.8896, Accuracy: 57743.0/60000 (96.24%)\n",
      "Test set: Average loss: 19.3687, Accuracy: 9627.0/10000 (96.27%)\n",
      "\n"
     ]
    },
    {
     "data": {
      "image/png": "[encoded data removed]",
      "text/plain": [
       "<matplotlib.figure.Figure at 0x23415224390>"
      ]
     },
     "metadata": {},
     "output_type": "display_data"
    },
    {
     "data": {
      "image/png": "[encoded data removed]",
      "text/plain": [
       "<matplotlib.figure.Figure at 0x23418901908>"
      ]
     },
     "metadata": {},
     "output_type": "display_data"
    }
   ],
   "source": [
    "# Training Model 2\n",
    "train_model(model2, epochs)"
   ]
  },
  {
   "cell_type": "code",
   "execution_count": null,
   "metadata": {
    "collapsed": true
   },
   "outputs": [],
   "source": []
  }
 ],
 "metadata": {
  "anaconda-cloud": {},
  "kernelspec": {
   "display_name": "Python [default]",
   "language": "python",
   "name": "python3"
  },
  "language_info": {
   "codemirror_mode": {
    "name": "ipython",
    "version": 3
   },
   "file_extension": ".py",
   "mimetype": "text/x-python",
   "name": "python",
   "nbconvert_exporter": "python",
   "pygments_lexer": "ipython3",
   "version": "3.5.4"
  }
 },
 "nbformat": 4,
 "nbformat_minor": 2
}
